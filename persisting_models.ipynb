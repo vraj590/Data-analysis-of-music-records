{
 "cells": [
  {
   "cell_type": "code",
   "execution_count": 5,
   "id": "1069cf2b",
   "metadata": {},
   "outputs": [
    {
     "data": {
      "text/plain": [
       "array(['HipHop', 'Acoustic'], dtype=object)"
      ]
     },
     "execution_count": 5,
     "metadata": {},
     "output_type": "execute_result"
    }
   ],
   "source": [
    "import pandas as pd\n",
    "from sklearn.tree import DecisionTreeClassifier\n",
    "import joblib\n",
    "# music_data = pd.read_csv('music.csv')\n",
    "# music_data\n",
    "# x=music_data.drop(columns=['genre'])\n",
    "# y=music_data['genre']\n",
    "# model= DecisionTreeClassifier()\n",
    "# model.fit(x.values,y)\n",
    "joblib.dump(model,'music-recommender.joblib')\n",
    "Predictions = model.predict([[21,1],[29,0]])\n",
    "Predictions "
   ]
  },
  {
   "cell_type": "code",
   "execution_count": null,
   "id": "33a744eb",
   "metadata": {},
   "outputs": [],
   "source": []
  },
  {
   "cell_type": "code",
   "execution_count": null,
   "id": "765766e6",
   "metadata": {},
   "outputs": [],
   "source": []
  }
 ],
 "metadata": {
  "kernelspec": {
   "display_name": "Python 3 (ipykernel)",
   "language": "python",
   "name": "python3"
  },
  "language_info": {
   "codemirror_mode": {
    "name": "ipython",
    "version": 3
   },
   "file_extension": ".py",
   "mimetype": "text/x-python",
   "name": "python",
   "nbconvert_exporter": "python",
   "pygments_lexer": "ipython3",
   "version": "3.9.12"
  }
 },
 "nbformat": 4,
 "nbformat_minor": 5
}
